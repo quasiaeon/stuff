{
 "cells": [
  {
   "cell_type": "markdown",
   "id": "8470f99e-622d-4857-9e1f-98ad3a724e54",
   "metadata": {},
   "source": [
    "# Patstāvīga datu kopas apstrāde ar \"Pandas\" bibliotēku"
   ]
  },
  {
   "cell_type": "code",
   "execution_count": 1,
   "id": "6857fb14-efd6-4598-ac0a-aa00246aa2b4",
   "metadata": {},
   "outputs": [],
   "source": [
    "import pandas as pd\n",
    "import seaborn as sns\n",
    "import numpy as np\n",
    "import matplotlib.pyplot as plt"
   ]
  },
  {
   "cell_type": "markdown",
   "id": "e5c046a1-e64a-4d3d-a8ef-8666370e0e7c",
   "metadata": {},
   "source": [
    "Šajā nodarbībā veiksim datu kopas `taxis` apstrādi ar bibliotēku `pandas`. Datu kopa satur informāciju par taksometru braucieniem Ņujorkā 2019. gada martā. Par katru braucienu informācija tiek glabāta kolonnās:\n",
    "* **pickup** – brauciena sākuma laiks\n",
    "* **dropoff** – brauciena beigu laiks\n",
    "* **passengers** – cik cilvēku iekāpa taksometrā\n",
    "* **distance** – brauciena attālums, km\n",
    "* **fare** – brauciena izmaksas, \\$\n",
    "* **tip** – dzeramnauda, \\$\n",
    "* **tolls** – nodeva, \\$\n",
    "* **total** – brauciena kopējās izmaksas, \\$\n",
    "* **color** – taksometra krāsa\n",
    "* **payment** – maksāšanas veids\n",
    "* **pickup_zone** – brauciena sākuma zona\n",
    "* **dropoff_zone** – brauciena beigu zona\n",
    "* **pickup_borough** – brauciena sākuma rajons\n",
    "* **dropoff_borough** – brauciena beigu rajons"
   ]
  },
  {
   "cell_type": "markdown",
   "id": "8a45fce1-aadd-4658-b74f-704f2835c71d",
   "metadata": {},
   "source": [
    "**Uzdevums:** Ielasīt datus, kas glabājas failā `taxis.csv`, dati failā atdalīti ar komatiem. Piešķirt kolonnām `pickup` un `dropoff` datuma formātu. Pataisīt kolonnu `pickup` kā datu masīva indeksa kolonnu."
   ]
  },
  {
   "cell_type": "code",
   "execution_count": 3,
   "id": "bcd05f6e-ee49-430e-aa79-c58312df404e",
   "metadata": {
    "tags": []
   },
   "outputs": [
    {
     "ename": "FileNotFoundError",
     "evalue": "[Errno 2] No such file or directory: 'taxis.csv'",
     "output_type": "error",
     "traceback": [
      "\u001b[1;31m---------------------------------------------------------------------------\u001b[0m",
      "\u001b[1;31mFileNotFoundError\u001b[0m                         Traceback (most recent call last)",
      "Cell \u001b[1;32mIn[3], line 1\u001b[0m\n\u001b[1;32m----> 1\u001b[0m df \u001b[38;5;241m=\u001b[39m \u001b[43mpd\u001b[49m\u001b[38;5;241;43m.\u001b[39;49m\u001b[43mread_csv\u001b[49m\u001b[43m(\u001b[49m\u001b[38;5;124;43m'\u001b[39;49m\u001b[38;5;124;43mtaxis.csv\u001b[39;49m\u001b[38;5;124;43m'\u001b[39;49m\u001b[43m)\u001b[49m\n",
      "File \u001b[1;32mc:\\Users\\atsve\\Desktop\\work\\.venv\\lib\\site-packages\\pandas\\io\\parsers\\readers.py:1026\u001b[0m, in \u001b[0;36mread_csv\u001b[1;34m(filepath_or_buffer, sep, delimiter, header, names, index_col, usecols, dtype, engine, converters, true_values, false_values, skipinitialspace, skiprows, skipfooter, nrows, na_values, keep_default_na, na_filter, verbose, skip_blank_lines, parse_dates, infer_datetime_format, keep_date_col, date_parser, date_format, dayfirst, cache_dates, iterator, chunksize, compression, thousands, decimal, lineterminator, quotechar, quoting, doublequote, escapechar, comment, encoding, encoding_errors, dialect, on_bad_lines, delim_whitespace, low_memory, memory_map, float_precision, storage_options, dtype_backend)\u001b[0m\n\u001b[0;32m   1013\u001b[0m kwds_defaults \u001b[38;5;241m=\u001b[39m _refine_defaults_read(\n\u001b[0;32m   1014\u001b[0m     dialect,\n\u001b[0;32m   1015\u001b[0m     delimiter,\n\u001b[1;32m   (...)\u001b[0m\n\u001b[0;32m   1022\u001b[0m     dtype_backend\u001b[38;5;241m=\u001b[39mdtype_backend,\n\u001b[0;32m   1023\u001b[0m )\n\u001b[0;32m   1024\u001b[0m kwds\u001b[38;5;241m.\u001b[39mupdate(kwds_defaults)\n\u001b[1;32m-> 1026\u001b[0m \u001b[38;5;28;01mreturn\u001b[39;00m \u001b[43m_read\u001b[49m\u001b[43m(\u001b[49m\u001b[43mfilepath_or_buffer\u001b[49m\u001b[43m,\u001b[49m\u001b[43m \u001b[49m\u001b[43mkwds\u001b[49m\u001b[43m)\u001b[49m\n",
      "File \u001b[1;32mc:\\Users\\atsve\\Desktop\\work\\.venv\\lib\\site-packages\\pandas\\io\\parsers\\readers.py:620\u001b[0m, in \u001b[0;36m_read\u001b[1;34m(filepath_or_buffer, kwds)\u001b[0m\n\u001b[0;32m    617\u001b[0m _validate_names(kwds\u001b[38;5;241m.\u001b[39mget(\u001b[38;5;124m\"\u001b[39m\u001b[38;5;124mnames\u001b[39m\u001b[38;5;124m\"\u001b[39m, \u001b[38;5;28;01mNone\u001b[39;00m))\n\u001b[0;32m    619\u001b[0m \u001b[38;5;66;03m# Create the parser.\u001b[39;00m\n\u001b[1;32m--> 620\u001b[0m parser \u001b[38;5;241m=\u001b[39m TextFileReader(filepath_or_buffer, \u001b[38;5;241m*\u001b[39m\u001b[38;5;241m*\u001b[39mkwds)\n\u001b[0;32m    622\u001b[0m \u001b[38;5;28;01mif\u001b[39;00m chunksize \u001b[38;5;129;01mor\u001b[39;00m iterator:\n\u001b[0;32m    623\u001b[0m     \u001b[38;5;28;01mreturn\u001b[39;00m parser\n",
      "File \u001b[1;32mc:\\Users\\atsve\\Desktop\\work\\.venv\\lib\\site-packages\\pandas\\io\\parsers\\readers.py:1620\u001b[0m, in \u001b[0;36mTextFileReader.__init__\u001b[1;34m(self, f, engine, **kwds)\u001b[0m\n\u001b[0;32m   1617\u001b[0m     \u001b[38;5;28mself\u001b[39m\u001b[38;5;241m.\u001b[39moptions[\u001b[38;5;124m\"\u001b[39m\u001b[38;5;124mhas_index_names\u001b[39m\u001b[38;5;124m\"\u001b[39m] \u001b[38;5;241m=\u001b[39m kwds[\u001b[38;5;124m\"\u001b[39m\u001b[38;5;124mhas_index_names\u001b[39m\u001b[38;5;124m\"\u001b[39m]\n\u001b[0;32m   1619\u001b[0m \u001b[38;5;28mself\u001b[39m\u001b[38;5;241m.\u001b[39mhandles: IOHandles \u001b[38;5;241m|\u001b[39m \u001b[38;5;28;01mNone\u001b[39;00m \u001b[38;5;241m=\u001b[39m \u001b[38;5;28;01mNone\u001b[39;00m\n\u001b[1;32m-> 1620\u001b[0m \u001b[38;5;28mself\u001b[39m\u001b[38;5;241m.\u001b[39m_engine \u001b[38;5;241m=\u001b[39m \u001b[38;5;28;43mself\u001b[39;49m\u001b[38;5;241;43m.\u001b[39;49m\u001b[43m_make_engine\u001b[49m\u001b[43m(\u001b[49m\u001b[43mf\u001b[49m\u001b[43m,\u001b[49m\u001b[43m \u001b[49m\u001b[38;5;28;43mself\u001b[39;49m\u001b[38;5;241;43m.\u001b[39;49m\u001b[43mengine\u001b[49m\u001b[43m)\u001b[49m\n",
      "File \u001b[1;32mc:\\Users\\atsve\\Desktop\\work\\.venv\\lib\\site-packages\\pandas\\io\\parsers\\readers.py:1880\u001b[0m, in \u001b[0;36mTextFileReader._make_engine\u001b[1;34m(self, f, engine)\u001b[0m\n\u001b[0;32m   1878\u001b[0m     \u001b[38;5;28;01mif\u001b[39;00m \u001b[38;5;124m\"\u001b[39m\u001b[38;5;124mb\u001b[39m\u001b[38;5;124m\"\u001b[39m \u001b[38;5;129;01mnot\u001b[39;00m \u001b[38;5;129;01min\u001b[39;00m mode:\n\u001b[0;32m   1879\u001b[0m         mode \u001b[38;5;241m+\u001b[39m\u001b[38;5;241m=\u001b[39m \u001b[38;5;124m\"\u001b[39m\u001b[38;5;124mb\u001b[39m\u001b[38;5;124m\"\u001b[39m\n\u001b[1;32m-> 1880\u001b[0m \u001b[38;5;28mself\u001b[39m\u001b[38;5;241m.\u001b[39mhandles \u001b[38;5;241m=\u001b[39m \u001b[43mget_handle\u001b[49m\u001b[43m(\u001b[49m\n\u001b[0;32m   1881\u001b[0m \u001b[43m    \u001b[49m\u001b[43mf\u001b[49m\u001b[43m,\u001b[49m\n\u001b[0;32m   1882\u001b[0m \u001b[43m    \u001b[49m\u001b[43mmode\u001b[49m\u001b[43m,\u001b[49m\n\u001b[0;32m   1883\u001b[0m \u001b[43m    \u001b[49m\u001b[43mencoding\u001b[49m\u001b[38;5;241;43m=\u001b[39;49m\u001b[38;5;28;43mself\u001b[39;49m\u001b[38;5;241;43m.\u001b[39;49m\u001b[43moptions\u001b[49m\u001b[38;5;241;43m.\u001b[39;49m\u001b[43mget\u001b[49m\u001b[43m(\u001b[49m\u001b[38;5;124;43m\"\u001b[39;49m\u001b[38;5;124;43mencoding\u001b[39;49m\u001b[38;5;124;43m\"\u001b[39;49m\u001b[43m,\u001b[49m\u001b[43m \u001b[49m\u001b[38;5;28;43;01mNone\u001b[39;49;00m\u001b[43m)\u001b[49m\u001b[43m,\u001b[49m\n\u001b[0;32m   1884\u001b[0m \u001b[43m    \u001b[49m\u001b[43mcompression\u001b[49m\u001b[38;5;241;43m=\u001b[39;49m\u001b[38;5;28;43mself\u001b[39;49m\u001b[38;5;241;43m.\u001b[39;49m\u001b[43moptions\u001b[49m\u001b[38;5;241;43m.\u001b[39;49m\u001b[43mget\u001b[49m\u001b[43m(\u001b[49m\u001b[38;5;124;43m\"\u001b[39;49m\u001b[38;5;124;43mcompression\u001b[39;49m\u001b[38;5;124;43m\"\u001b[39;49m\u001b[43m,\u001b[49m\u001b[43m \u001b[49m\u001b[38;5;28;43;01mNone\u001b[39;49;00m\u001b[43m)\u001b[49m\u001b[43m,\u001b[49m\n\u001b[0;32m   1885\u001b[0m \u001b[43m    \u001b[49m\u001b[43mmemory_map\u001b[49m\u001b[38;5;241;43m=\u001b[39;49m\u001b[38;5;28;43mself\u001b[39;49m\u001b[38;5;241;43m.\u001b[39;49m\u001b[43moptions\u001b[49m\u001b[38;5;241;43m.\u001b[39;49m\u001b[43mget\u001b[49m\u001b[43m(\u001b[49m\u001b[38;5;124;43m\"\u001b[39;49m\u001b[38;5;124;43mmemory_map\u001b[39;49m\u001b[38;5;124;43m\"\u001b[39;49m\u001b[43m,\u001b[49m\u001b[43m \u001b[49m\u001b[38;5;28;43;01mFalse\u001b[39;49;00m\u001b[43m)\u001b[49m\u001b[43m,\u001b[49m\n\u001b[0;32m   1886\u001b[0m \u001b[43m    \u001b[49m\u001b[43mis_text\u001b[49m\u001b[38;5;241;43m=\u001b[39;49m\u001b[43mis_text\u001b[49m\u001b[43m,\u001b[49m\n\u001b[0;32m   1887\u001b[0m \u001b[43m    \u001b[49m\u001b[43merrors\u001b[49m\u001b[38;5;241;43m=\u001b[39;49m\u001b[38;5;28;43mself\u001b[39;49m\u001b[38;5;241;43m.\u001b[39;49m\u001b[43moptions\u001b[49m\u001b[38;5;241;43m.\u001b[39;49m\u001b[43mget\u001b[49m\u001b[43m(\u001b[49m\u001b[38;5;124;43m\"\u001b[39;49m\u001b[38;5;124;43mencoding_errors\u001b[39;49m\u001b[38;5;124;43m\"\u001b[39;49m\u001b[43m,\u001b[49m\u001b[43m \u001b[49m\u001b[38;5;124;43m\"\u001b[39;49m\u001b[38;5;124;43mstrict\u001b[39;49m\u001b[38;5;124;43m\"\u001b[39;49m\u001b[43m)\u001b[49m\u001b[43m,\u001b[49m\n\u001b[0;32m   1888\u001b[0m \u001b[43m    \u001b[49m\u001b[43mstorage_options\u001b[49m\u001b[38;5;241;43m=\u001b[39;49m\u001b[38;5;28;43mself\u001b[39;49m\u001b[38;5;241;43m.\u001b[39;49m\u001b[43moptions\u001b[49m\u001b[38;5;241;43m.\u001b[39;49m\u001b[43mget\u001b[49m\u001b[43m(\u001b[49m\u001b[38;5;124;43m\"\u001b[39;49m\u001b[38;5;124;43mstorage_options\u001b[39;49m\u001b[38;5;124;43m\"\u001b[39;49m\u001b[43m,\u001b[49m\u001b[43m \u001b[49m\u001b[38;5;28;43;01mNone\u001b[39;49;00m\u001b[43m)\u001b[49m\u001b[43m,\u001b[49m\n\u001b[0;32m   1889\u001b[0m \u001b[43m\u001b[49m\u001b[43m)\u001b[49m\n\u001b[0;32m   1890\u001b[0m \u001b[38;5;28;01massert\u001b[39;00m \u001b[38;5;28mself\u001b[39m\u001b[38;5;241m.\u001b[39mhandles \u001b[38;5;129;01mis\u001b[39;00m \u001b[38;5;129;01mnot\u001b[39;00m \u001b[38;5;28;01mNone\u001b[39;00m\n\u001b[0;32m   1891\u001b[0m f \u001b[38;5;241m=\u001b[39m \u001b[38;5;28mself\u001b[39m\u001b[38;5;241m.\u001b[39mhandles\u001b[38;5;241m.\u001b[39mhandle\n",
      "File \u001b[1;32mc:\\Users\\atsve\\Desktop\\work\\.venv\\lib\\site-packages\\pandas\\io\\common.py:873\u001b[0m, in \u001b[0;36mget_handle\u001b[1;34m(path_or_buf, mode, encoding, compression, memory_map, is_text, errors, storage_options)\u001b[0m\n\u001b[0;32m    868\u001b[0m \u001b[38;5;28;01melif\u001b[39;00m \u001b[38;5;28misinstance\u001b[39m(handle, \u001b[38;5;28mstr\u001b[39m):\n\u001b[0;32m    869\u001b[0m     \u001b[38;5;66;03m# Check whether the filename is to be opened in binary mode.\u001b[39;00m\n\u001b[0;32m    870\u001b[0m     \u001b[38;5;66;03m# Binary mode does not support 'encoding' and 'newline'.\u001b[39;00m\n\u001b[0;32m    871\u001b[0m     \u001b[38;5;28;01mif\u001b[39;00m ioargs\u001b[38;5;241m.\u001b[39mencoding \u001b[38;5;129;01mand\u001b[39;00m \u001b[38;5;124m\"\u001b[39m\u001b[38;5;124mb\u001b[39m\u001b[38;5;124m\"\u001b[39m \u001b[38;5;129;01mnot\u001b[39;00m \u001b[38;5;129;01min\u001b[39;00m ioargs\u001b[38;5;241m.\u001b[39mmode:\n\u001b[0;32m    872\u001b[0m         \u001b[38;5;66;03m# Encoding\u001b[39;00m\n\u001b[1;32m--> 873\u001b[0m         handle \u001b[38;5;241m=\u001b[39m \u001b[38;5;28;43mopen\u001b[39;49m\u001b[43m(\u001b[49m\n\u001b[0;32m    874\u001b[0m \u001b[43m            \u001b[49m\u001b[43mhandle\u001b[49m\u001b[43m,\u001b[49m\n\u001b[0;32m    875\u001b[0m \u001b[43m            \u001b[49m\u001b[43mioargs\u001b[49m\u001b[38;5;241;43m.\u001b[39;49m\u001b[43mmode\u001b[49m\u001b[43m,\u001b[49m\n\u001b[0;32m    876\u001b[0m \u001b[43m            \u001b[49m\u001b[43mencoding\u001b[49m\u001b[38;5;241;43m=\u001b[39;49m\u001b[43mioargs\u001b[49m\u001b[38;5;241;43m.\u001b[39;49m\u001b[43mencoding\u001b[49m\u001b[43m,\u001b[49m\n\u001b[0;32m    877\u001b[0m \u001b[43m            \u001b[49m\u001b[43merrors\u001b[49m\u001b[38;5;241;43m=\u001b[39;49m\u001b[43merrors\u001b[49m\u001b[43m,\u001b[49m\n\u001b[0;32m    878\u001b[0m \u001b[43m            \u001b[49m\u001b[43mnewline\u001b[49m\u001b[38;5;241;43m=\u001b[39;49m\u001b[38;5;124;43m\"\u001b[39;49m\u001b[38;5;124;43m\"\u001b[39;49m\u001b[43m,\u001b[49m\n\u001b[0;32m    879\u001b[0m \u001b[43m        \u001b[49m\u001b[43m)\u001b[49m\n\u001b[0;32m    880\u001b[0m     \u001b[38;5;28;01melse\u001b[39;00m:\n\u001b[0;32m    881\u001b[0m         \u001b[38;5;66;03m# Binary mode\u001b[39;00m\n\u001b[0;32m    882\u001b[0m         handle \u001b[38;5;241m=\u001b[39m \u001b[38;5;28mopen\u001b[39m(handle, ioargs\u001b[38;5;241m.\u001b[39mmode)\n",
      "\u001b[1;31mFileNotFoundError\u001b[0m: [Errno 2] No such file or directory: 'taxis.csv'"
     ]
    }
   ],
   "source": [
    "df = pd.read_csv('taxis.csv')"
   ]
  },
  {
   "cell_type": "markdown",
   "id": "4502783f-b6ba-43a4-824c-3d28024ca464",
   "metadata": {},
   "source": [
    "Ar šo rindiņu izmet no datu masīva tās rindas, kurās ir kāda iztrūkstoša informācija."
   ]
  },
  {
   "cell_type": "code",
   "execution_count": null,
   "id": "a54a7873-b062-410a-ad7c-ee3b059f11e4",
   "metadata": {},
   "outputs": [],
   "source": [
    "df.dropna(axis=0, how='any', inplace=True)"
   ]
  },
  {
   "cell_type": "markdown",
   "id": "45ccf4d0-9a3b-4460-87ce-8bf84afdc9bc",
   "metadata": {
    "tags": []
   },
   "source": [
    "`Pandas` datu masīviem ir iespējams pievienot kolonnas, kuras ir aprēķinātas no citām kolonnām. Piemērs, kā to izdarīt parādīts šūnā apakšā. Šī koda rindiņa pievieno datu masīvam kolonnu **tip_percentage**, kas raksturo, kādu daļu no kopējās brauciena summas sastāda dzeramnauda."
   ]
  },
  {
   "cell_type": "code",
   "execution_count": null,
   "id": "b9df46da-9281-4c90-be4e-6e2988967bfa",
   "metadata": {},
   "outputs": [],
   "source": [
    "df['tip_percentage'] = df.tip/df.total"
   ]
  },
  {
   "cell_type": "markdown",
   "id": "a498d252-c167-4149-bdbb-a78c5ba7f00a",
   "metadata": {},
   "source": [
    "**Uzdevums:** Pievienot datu masīvam kolonnas:\n",
    "* Kolonnā **time** aprēķināt brauciena ilgumu minūtēs\n",
    "* Kolonnā **speed** aprēķināt brauciena vidējo ātrumu\n",
    "* Kolonnā **fare_per_kilometer** aprēķināt brauciena izmaksas (*fare*) uz kilometru"
   ]
  },
  {
   "cell_type": "code",
   "execution_count": null,
   "id": "a7ac084f-c5c8-4181-b152-e1db02e97ada",
   "metadata": {},
   "outputs": [],
   "source": []
  },
  {
   "cell_type": "code",
   "execution_count": null,
   "id": "45e94a76-120a-4148-975f-0f61ef9e0311",
   "metadata": {},
   "outputs": [],
   "source": []
  },
  {
   "cell_type": "code",
   "execution_count": null,
   "id": "d9a0c02b-c967-4fca-ab5e-4ea8cfae7e57",
   "metadata": {},
   "outputs": [],
   "source": []
  },
  {
   "cell_type": "markdown",
   "id": "6e7b8bd5-8032-41a7-95ac-adae5ac1f59e",
   "metadata": {},
   "source": [
    "## Uzdevumi:"
   ]
  },
  {
   "cell_type": "markdown",
   "id": "c1512fc3-416f-46e5-ba36-6698985d6d03",
   "metadata": {},
   "source": [
    "Izvadīt informāciju par braucienu, kas notika 2019. gada 11. marta 20:45:26."
   ]
  },
  {
   "cell_type": "code",
   "execution_count": null,
   "id": "77864577-1401-46c4-b548-c190d20babc8",
   "metadata": {},
   "outputs": [],
   "source": []
  },
  {
   "cell_type": "markdown",
   "id": "177d9691-61df-4c5b-807f-35fb857d5551",
   "metadata": {},
   "source": [
    "Cik cilvēki maksājuši ar karti, cik skaidrā?"
   ]
  },
  {
   "cell_type": "code",
   "execution_count": null,
   "id": "5ade88d0-ac30-4c5c-a0a0-17daf3bd7a8a",
   "metadata": {},
   "outputs": [],
   "source": []
  },
  {
   "cell_type": "markdown",
   "id": "08e012fd-bd48-44b6-9c33-23ed2f1184b6",
   "metadata": {},
   "source": [
    "Kuras krāsas taksometriem dod procentuāli lielāku dzeramnaudu?"
   ]
  },
  {
   "cell_type": "code",
   "execution_count": null,
   "id": "52d38ee3-ea71-45f2-b669-6b29c1da0de6",
   "metadata": {},
   "outputs": [],
   "source": []
  },
  {
   "cell_type": "markdown",
   "id": "c1c99eb9-1686-4ca6-a836-162c539b7b7d",
   "metadata": {},
   "source": [
    "Uzzīmēt grafikā pasažieru skaitu pa dienām."
   ]
  },
  {
   "cell_type": "code",
   "execution_count": null,
   "id": "3a794391-a6bf-4ba7-bd43-1fd3451700bf",
   "metadata": {},
   "outputs": [],
   "source": []
  },
  {
   "cell_type": "markdown",
   "id": "44399b9d-11fb-4250-8115-37b9e805d25d",
   "metadata": {
    "tags": []
   },
   "source": [
    "Uzzīmēt grafikā brauciena vidējo ātrumu atkarībā no diennakts stundas."
   ]
  },
  {
   "cell_type": "code",
   "execution_count": null,
   "id": "db4157c1-6897-4bb5-889d-8a0277e09943",
   "metadata": {},
   "outputs": [],
   "source": []
  },
  {
   "cell_type": "markdown",
   "id": "f55dc4e6-ce52-4ed3-b82c-d831e1a20e06",
   "metadata": {
    "tags": []
   },
   "source": [
    "Uzzīmēt grafikā vidējo brauciena ilgumu atkarībā no diennakts stundas."
   ]
  },
  {
   "cell_type": "code",
   "execution_count": null,
   "id": "86138e2b-c44b-4f5b-82f4-99644dacc447",
   "metadata": {},
   "outputs": [],
   "source": []
  },
  {
   "cell_type": "markdown",
   "id": "dc61964c-603f-4ad3-ace2-d17ebcfb844e",
   "metadata": {},
   "source": [
    "Cik braucienu ir bijis katrā maršrutā? (apskatīt braucienu skaitu atkarībā no sākuma un beigu *borough*)."
   ]
  },
  {
   "cell_type": "code",
   "execution_count": null,
   "id": "a9be98d9-5d22-4252-b86c-15fc1867fa1a",
   "metadata": {},
   "outputs": [],
   "source": []
  },
  {
   "cell_type": "markdown",
   "id": "1fad2792-da37-4eb5-8604-d36c1f098ee8",
   "metadata": {},
   "source": [
    "Atlasīt tikai tos gadījumus, kad brauciena attālums lielāks par 0 (lai izvairītos no kļūdas). Kāda ir vidējā brauciena cena par kilometru atkarībā no diennakts stundas?"
   ]
  },
  {
   "cell_type": "code",
   "execution_count": null,
   "id": "29bd4e2e-7800-4d3f-9f06-9a280b77373a",
   "metadata": {},
   "outputs": [],
   "source": []
  },
  {
   "cell_type": "markdown",
   "id": "f4e9bdec-e43c-48e7-9f82-43525b9a6f0a",
   "metadata": {},
   "source": [
    "Cik braucienu, kas garumā satrp 5km un 10km, ir notikuši?"
   ]
  },
  {
   "cell_type": "code",
   "execution_count": null,
   "id": "72ad29f4-1d28-4f26-8cb5-7dd5dabfc863",
   "metadata": {},
   "outputs": [],
   "source": []
  },
  {
   "cell_type": "markdown",
   "id": "c2b7cb41-4ce0-41d9-b1d2-45fdf774713a",
   "metadata": {},
   "source": [
    "Uzzīmēt pasažieru kopējo skaitu pa dienām, kuri sāk braucienu *Manhattan*."
   ]
  },
  {
   "cell_type": "code",
   "execution_count": null,
   "id": "86c2998e-d021-4931-b926-a037d8385d96",
   "metadata": {},
   "outputs": [],
   "source": []
  },
  {
   "cell_type": "markdown",
   "id": "39868d00-ee9e-4b41-9430-87c7bc9b4739",
   "metadata": {},
   "source": [
    "Atlasīt tikai tos braucienus, kam sākuma un beigu *borough* sakrīt. Kāds ir vidējais brauciena ilgums katra *borough* robežās?"
   ]
  },
  {
   "cell_type": "code",
   "execution_count": null,
   "id": "848db465-ce6c-4a61-a9ee-1ec39ae1bd57",
   "metadata": {},
   "outputs": [],
   "source": []
  },
  {
   "cell_type": "markdown",
   "id": "56e6575d-ed91-454e-9f67-52bf8a464266",
   "metadata": {},
   "source": [
    "Uzzīmēt diennakts vidējo pasažieru skaitu atkarībā no nedēļas dienas."
   ]
  },
  {
   "cell_type": "code",
   "execution_count": null,
   "id": "0e105caa-f881-474e-a6a9-ddb17eda0dd2",
   "metadata": {},
   "outputs": [],
   "source": []
  },
  {
   "cell_type": "markdown",
   "id": "bf4411a2-3fab-4f2b-8e92-3b57e489784c",
   "metadata": {},
   "source": [
    "Uzzīmēt grafikā vidējo braucienu skaitu atkarībā no diennakts stundas."
   ]
  },
  {
   "cell_type": "code",
   "execution_count": null,
   "id": "9fdc1069-a43b-47a3-bcb3-e87d4abb760b",
   "metadata": {},
   "outputs": [],
   "source": []
  },
  {
   "cell_type": "markdown",
   "id": "3c185164-3f93-4d3e-affa-f367eeddf53b",
   "metadata": {},
   "source": [
    "Atlasīt tikai tos braucienus, kam sākuma un beigu *borough* sakrīt. Atlasīt tikai tos gadījumus, kad brauciena attālums lielāks par 0 (lai izvairītos no kļūdas). Kāda ir vidējā brauciena cena par kilometru katrā no *borough*?"
   ]
  },
  {
   "cell_type": "code",
   "execution_count": null,
   "id": "f8c51d1f-4efe-49f0-a2c7-78018a3565a7",
   "metadata": {},
   "outputs": [],
   "source": []
  }
 ],
 "metadata": {
  "kernelspec": {
   "display_name": ".venv",
   "language": "python",
   "name": "python3"
  },
  "language_info": {
   "codemirror_mode": {
    "name": "ipython",
    "version": 3
   },
   "file_extension": ".py",
   "mimetype": "text/x-python",
   "name": "python",
   "nbconvert_exporter": "python",
   "pygments_lexer": "ipython3",
   "version": "3.10.11"
  }
 },
 "nbformat": 4,
 "nbformat_minor": 5
}
