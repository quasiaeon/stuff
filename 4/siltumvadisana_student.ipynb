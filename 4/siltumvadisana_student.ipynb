{
 "cells": [
  {
   "cell_type": "markdown",
   "metadata": {},
   "source": [
    "## 1. Uzsildīta objekta atdzišana  \n",
    "\n",
    "Sākotnēji pieņemsism, ka objekta temperatūra ir konstanta visā objektā, bet mainīga laikā $T(t)$. Objekta temperatūras izmaiņa ir proporcionāla starpībai starp apkārtējās vides temperatūru un objekta temperatūru . To raksturo sekojošs diferenciālvienādojums laikā: \n",
    "$$\\frac{dT}{dt} = -k (T - T_g) \\tag{1}$$  \n",
    "$k = 1/{t_k}$ ir relakcācijas konstante, $t_k$ ir relaksācijas laiks.  \n",
    "Ja apkārtējās vides temperatūra ir laikā nemainīga, objekta sākotnējā temperatūra ir $T_0$, tad analītisks atrisinājums šādam vienādojumam ir eksponenciāla funkcija:  \n",
    "$$T(t) = (T_0 - T_g) e^{-kt} + T_g \\tag{2}$$\n"
   ]
  },
  {
   "cell_type": "markdown",
   "metadata": {},
   "source": [
    "Pārveidosim temperatūras izmaiņas vienādojumu, piešķirot fizikālu jēgu koeficientiem. \n",
    "$$\\rho V c_p \\frac{dT}{dt} = -\\alpha A (T - T_g)$$  \n",
    "Šeit $V$ un $A$ ir, attiecīgi, objekta tilpums un laukums, $c_p$ ir īpatnējā siltumietilpība $J/kg/K$, $\\rho$ - blīvums $kg/m^3$, $\\alpha$ - siltumatdeves koeficients $W/m^2/K$\n",
    "\n",
    "\n",
    "\n",
    "\n"
   ]
  },
  {
   "cell_type": "markdown",
   "metadata": {},
   "source": [
    "Vienādojuma (1) atrisinājumu skaitliski var realizēt ar Eilera metodi, aizvietojot diferenciālvienādojumu ar galīgo diferenču vienādojumu. Atrisinājumu iegūst pakāpeniski, katrā nākamajā solī ($n+1$), atrisinājumu iegūst no iepriekšējā soļa ($n$) sekojoši:\n",
    "$$ \\frac{T^{(n+1)}-T^{(n)}}{\\Delta t} = -k  (T^{(n)} - T_g) \\tag{3}$$"
   ]
  },
  {
   "cell_type": "markdown",
   "metadata": {},
   "source": [
    "### 1.1. uzdevums  \n",
    "1. Realizēt skaitlisku vienādojuma (1) atrisināšanu ar Eilera metodi, uzglabāt atrisinājumu katrā laika solī datu masīvā.\n",
    "Pieņemt parametru vērtības: $T_0=100$, $T_g=20$, $k=1/1000$\n",
    "2. Attēlot skaitlisko atrisinājumu pie dažādām $\\Delta t$ vērtībām un analītisko atrisinājumu (2) vienā grafikā\n",
    "3. Pārliecināties, ka lielām laika soļa $\\Delta t$ vērtībām, kļūst nestabils. Attēlot nestabilo atrisinājumu grafiski\n",
    "4. Izmantot `scipy` bibliotēkas funkciju `solve_ivp` diferenciālvienādojuma atrisināšanai\n",
    "5. Salīdzināt šo atrisinājumu ar analītisko (2) vienā grafikā."
   ]
  },
  {
   "cell_type": "code",
   "execution_count": null,
   "metadata": {},
   "outputs": [],
   "source": []
  },
  {
   "cell_type": "markdown",
   "metadata": {},
   "source": [
    "# TE PAVISAM BĒDĪGAJIEM STUDENTIEM APSTĀTIES"
   ]
  },
  {
   "cell_type": "markdown",
   "metadata": {},
   "source": [
    "## 2. Siltumvadīšanas vienādojums  \n",
    "Temperatūras sadalījumu objektā, laikā un telpā, var aprakstīt ar [siltumvadīšanas vienādojumu](https://en.wikipedia.org/wiki/Heat_equation#Non-uniform_isotropic_medium). Vispārīgā gadījumā to apraksta ar sekojošu parciāldiferenciālvienādojumu:  \n",
    "$$\\rho c_p \\frac{\\partial{T}}{\\partial{t}} = \\lambda \\Delta T\\tag{4}$$  \n",
    "Šeit $T$ ir telpā un laikā mainīga temperatūra, $c_p$ ir [īpatnējā siltumietilpība](https://en.wikipedia.org/wiki/Specific_heat_capacity) ($J/kg/K$), $\\rho$ - blīvums ($kg/m^3$), $\\lambda$ ir [siltumvadītspējas koeficients](https://en.wikipedia.org/wiki/Thermal_conductivity) ($W/m/K$). Šādā formā uzrakstīta siltumvadīšanas vienādojuma fizikālā dimensija ir $W/m^3$ (*jaudas blīvums*). Vienādojums raksturo enerģijas saglabāšanos un ir piemērots siltuma izplatīšanās aprēķiniem cietos ķermeņos.  Materiālu īpašības un siltuma avotu blīvums var būt mainīgi telpā un laikā, tie var būt arī atkarīgi no temperatūras.  \n",
    "\n",
    "Izrakstot vienādojumu trīsdimensiju telpā pa koordinātēm ($x$, $y$, $z$):  \n",
    "$$\\rho c_p \\frac{\\partial{T}}{\\partial{t}} = \\lambda \\left(\\frac{\\partial^2 {T}}{\\partial{x^2}} + \\frac{\\partial^2 {T}}{\\partial{y^2}} + \\frac{\\partial^2 {T}}{\\partial{z^2}} \\right) \\tag{5}$$  \n",
    "Vienādojums jāpapildina ar sākumnosacījumiem $T(0)=T_0(x,y,z)$ un robežnosacījumiem uz apgabala robežas. Robežnosacījumi var būt  \n",
    "1. veida - uzdota temperatūra $T(0)=T_0$ \n",
    "2. veida - gals ir izolēts $\\frac{\\partial T(0)}{\\partial x}=0$"
   ]
  },
  {
   "cell_type": "markdown",
   "metadata": {},
   "source": [
    "### 2.1. Siltumvadīšana viendimensionālā gadījumā  \n",
    "\n",
    "Apskatīsim siltumvadīšanas uzdevumu vienā telpas dimensijā (koordināte $x$).  \n",
    "$$\\rho c_p \\frac{\\partial{T}}{\\partial{t}} = \\lambda \\frac{\\partial^2 {T}}{\\partial{x^2}} \\tag{6}$$ Robežnosacījumi šādā gadījumā jāuzdod divos punktos"
   ]
  },
  {
   "cell_type": "markdown",
   "metadata": {},
   "source": [
    "Aplūkosim viendimensionālu sltuma pārnesi stieni ar garumu $L$. Sadalīsim apgabalu $N$ vienādās daļās - šūnās. Uzskatīsim, ka temperatūra ir uzdota šūnu malās - tātad ir $N+1$ punkti, kuros aprēķinam temperatūru. Punkta numuru apzīmēsim ar $i=0..N$. Materiālu īpašības uzdosim šūnās. Vienādojuma (6) diskretizācija ar galīgo diferenču metodi ar Eilera metodi ir\n",
    "$$(\\rho c_p) \\frac{T_i^{(n+1)}-T_i^{(n)}}{\\Delta T} =\\lambda \\frac{ \\frac{T_{i+1}^{(n)}-T_{i}^{(n)}}{\\Delta x}-  \\frac{T_{i}^{(n)}-T_{i-1}^{(n)}}{\\Delta x}}{\\Delta x} \\tag{7}$$  \n",
    "Vienādojumu (7) pielieto visiem apgabala punktiem $i=1..N-1$.  \n",
    "\n",
    "Robežnosacījumus var uzdot sekojoši:\n",
    "1. veida robežnosacījumi - jāuzdod temperatūra pie $i=0$ un/vai $i=N$. Piemēram, $T_0=T_{left}, T_N=T_{right}$.\n",
    "2. veida robežnosacījumi - izolēti gali. $\\frac{T_1-T_0}{\\Delta x} = 0$ vai $\\frac{T_N-T_{N-1}}{\\Delta x} = 0$. \n"
   ]
  },
  {
   "cell_type": "markdown",
   "metadata": {},
   "source": [
    "**Materiālu īpašības**  \n",
    "Siltumvadītspējas koeficients, sk. [sarakstu](https://en.wikipedia.org/wiki/List_of_thermal_conductivities), [pārskata attēlu](https://en.wikipedia.org/wiki/Thermal_conductivity#/media/File:Thermal_conductivity.svg), $W/m/K$\n",
    "\n",
    "[Blīvums](https://en.wikipedia.org/wiki/Density#Various_materials), $kg/m^3$\n",
    "\n",
    "[Īpatnējā siltumietilpība](https://en.wikipedia.org/wiki/Table_of_specific_heat_capacities), $J/kg/K$"
   ]
  },
  {
   "cell_type": "markdown",
   "metadata": {
    "tags": []
   },
   "source": [
    "### 2.1 Uzdevums\n",
    "1) Izvēlēties reālistiskas parametru vērtības, kas atbilst krūzītei, kas pildīta ar ūdeni. Laika soli $\\Delta t$ un režģa soli $\\Delta x$ izvēlēties tādu, kas nodrošina atrisinājuma stabilitāti.\n",
    "2) Atrisināt siltumvadīšanas vienādojumu stienī, kur sākuma temperatūra ir $100^\\circ C$, bet temperatūra uz stieņa galiem ir $20^\\circ C$.\n",
    "3) Atrisināt siltumvadīšanas vienādojumu stienī, kur sākuma temperatūra ir $100^\\circ C$, bet temperatūra uz viena stieņa gala ir $20^\\circ C$, bet otrs gals ir izolēts.\n",
    "4) Atrisināt siltumvadīšanas vienādojumu stienī, kur sākuma temperatūra ir $20\\cdot \\sin{\\left(\\frac{4\\pi x}{l}\\right)}$, bet abi stieņa gali ir izolēti.\n",
    "5) Attēlot grafiski visus trīs atrisinājumus atkarībā no laika. Attēlot var kā 2D attēlu, izmantojot `plt.pcolor()`, kur uz x ass ir laiks, uz y ass koordināta, bet ar krāsu parādīta temperatūra. Vai arī attēlot vienā grafikā ar līkni temperatūras sadalījumus ik pēc kāda laika intervāla.\n",
    "6) Aprēķināt vienu no 2., 3. vai 4. punkta atrisinājumiem, izvēloties tādu $\\Delta t$, lai būtu vērojamas skaitliskas nestabilitātes. Attēlot atrisinājumu grafiski."
   ]
  },
  {
   "cell_type": "code",
   "execution_count": null,
   "metadata": {},
   "outputs": [],
   "source": []
  },
  {
   "cell_type": "markdown",
   "metadata": {},
   "source": [
    "# ŠEIT DOTIES TIKAI PAŠIEM DROSMĪGĀKAJIEM"
   ]
  },
  {
   "cell_type": "markdown",
   "metadata": {},
   "source": [
    "### Aprēķinu apakšprogrammas noformēšana  \n",
    "**Uzdevums**: Noformēt siltumvadīšanas vienādojuma atrisināšanas programmu *Python* klases formā. Programmai jānodrošina robežnosacījumu, sākumnosacījumu uzdošana. Rezultāti jāatgriež *pandas.Dataframe* tabulā, kur rindās ir laiks, bet kolonās ir attālums."
   ]
  },
  {
   "cell_type": "code",
   "execution_count": null,
   "metadata": {},
   "outputs": [],
   "source": []
  }
 ],
 "metadata": {
  "kernelspec": {
   "display_name": "Python 3 (ipykernel)",
   "language": "python",
   "name": "python3"
  },
  "language_info": {
   "codemirror_mode": {
    "name": "ipython",
    "version": 3
   },
   "file_extension": ".py",
   "mimetype": "text/x-python",
   "name": "python",
   "nbconvert_exporter": "python",
   "pygments_lexer": "ipython3",
   "version": "3.11.6"
  }
 },
 "nbformat": 4,
 "nbformat_minor": 4
}
