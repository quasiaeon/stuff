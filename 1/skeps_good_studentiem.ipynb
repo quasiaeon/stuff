{
 "cells": [
  {
   "cell_type": "markdown",
   "metadata": {},
   "source": [
    "# Šķēpmešana"
   ]
  },
  {
   "cell_type": "markdown",
   "metadata": {},
   "source": [
    "#### Inicializācija un bibliotēku imports"
   ]
  },
  {
   "cell_type": "code",
   "execution_count": 17,
   "metadata": {},
   "outputs": [],
   "source": [
    "\n",
    "import numpy as np\n",
    "import matplotlib\n",
    "import matplotlib.pyplot as plt\n",
    "%matplotlib inline\n",
    "matplotlib.rcParams.update({'font.size': 20})"
   ]
  },
  {
   "cell_type": "markdown",
   "metadata": {},
   "source": [
    "#### Gravitācijas konstante"
   ]
  },
  {
   "cell_type": "code",
   "execution_count": 18,
   "metadata": {},
   "outputs": [],
   "source": [
    "g=9.81\n"
   ]
  },
  {
   "cell_type": "markdown",
   "metadata": {},
   "source": [
    "## Teorijas apraksts"
   ]
  },
  {
   "cell_type": "markdown",
   "metadata": {},
   "source": [
    "Izsviesta šķēpa pārvietošanos raksturojam ar diferenciālvienādojumiem. Pielietots punktveida objekta tuvinājums, gaisa berze izteikta proporcionāla ātruma kvadrātam.\n",
    "$$\\begin{array}{lcl} \n",
    "\\frac{dx}{dt} &=& v_x \\\\\n",
    "\\frac{dz}{dt} &=& v_z \\\\\n",
    "\\frac{dv_x}{dt} &=& -\\gamma v_x \\sqrt{v_x^2+v_z^2} \\\\\n",
    "\\frac{dv_z}{dt} &=& -g -\\gamma v_z \\sqrt{v_x^2+v_z^2}\n",
    "\\end{array}$$\n",
    "Šeit $x$ un $z$ ir pārvietojums pa, attiecīgi, x un z asi, $v_x$ un $v_z$ ir ātruma komponente pa šīm asīm, $g$ ir brīvās krišānas paātrinājums, $\\gamma$ ir gaisa berzes koeficients. Berzes koeficientu izteiksim atkarīgu no *empīriska* stacionārā krišanas ātruma (*terminal velocity*): $\\gamma=g/v_{term}^2$.  \n",
    "Sākumnosacījumi diferenciālvienādojumu sistēmai ir \n",
    "$$\\begin{array}{lcl} \n",
    "x(0) &=& 0 \\\\\n",
    "z(0) &=& h_0 \\\\\n",
    "v_x(0) &=& v_0 cos \\alpha \\\\\n",
    "v_z(0) &=& v_0 sin \\alpha\n",
    "\\end{array}$$, šeit $h_0$ ir sākotnējais augstums (~2 m), $v_0$ ir izsviešanas ātrums, $\\alpha$ ir izsviešanas leņkis pret horizontu.  \n",
    "Aprēķina uzdevums ir noteikt lidojuma attālumu $x_{att}$. To nosaka, atrodot laika momentu $t_{att}$, kurā $z=0$, t.i. šķēps piezemējas. Aprēķinot lidojuma attālumu dažādiem parametriem var atrast funkcionālu sakarību starp lidojuma attālumu, izsviešanas ātrumu, sākotnējo augstumu, berzes koeficientu un izsviešanas leņki: $${x_{att}}=x_{att}(v_0, h_0, \\alpha, \\gamma)$$ Apvēršot to pret $v_0$ var iegūt arī sakarību $$v_0=v_0(x_{att} , h_0, \\alpha, \\gamma)$$\n",
    "Izmantojot šīs sakarības var atrast optimālo izsviešanas leņķi, zinot izsviešanas ātrumu (maksimizējot attālumu), vai arī sasniedzamo lidojuma attālumu (minimizējot izviešanas ātrumu).  \n",
    "Attāluma izmaiņas, izmainot ātrumu par vienu vienību var noteikt izmantojot lidojuma attāluma atvasinājumu pēc izsviešanas ātruma - $\\frac {\\partial x_{att}}{\\partial v_0}$"
   ]
  },
  {
   "cell_type": "markdown",
   "metadata": {},
   "source": [
    "Nākamajā šūnā diferenciālvienādojumi izteikti kā funkcija, ko vēlāk lietosim diferenciālvienādojumu sistēmas atrisināšanas apakšprogrammā *scipy.integrate.odeint*. Šīs funckijas pirmais parametrs ir masīvs ar tik elementiem, cik ir mainīgo (mūsu gadījumā 4), otrais parametrs ir neatkarīgais mainīgais (mūsu gadījumā laiks $t$), tālākie parametri ir brīvie parametri (mūsu gadījumā $g$ un $\\gamma$)"
   ]
  },
  {
   "cell_type": "markdown",
   "metadata": {},
   "source": [
    "## Dotās aprēķina formulas"
   ]
  },
  {
   "cell_type": "markdown",
   "metadata": {},
   "source": [
    "#### Definīcijas"
   ]
  },
  {
   "cell_type": "markdown",
   "metadata": {},
   "source": [
    "<div class=\"alert alert-block alert-warning\">\n",
    "<b>Uzmanību!</b> Ieraksti šūnā zemāk pareizo funkciju, kas atbilst rēķināmajai DV sistēmai. Izmanto vienādojumos arī g un gamma!\n",
    "</div>"
   ]
  },
  {
   "cell_type": "code",
   "execution_count": 19,
   "metadata": {},
   "outputs": [],
   "source": [
    "def drdt(t, r, g, gamma):\n",
    "    \"\"\"\n",
    "    Returns the derivatives for the system:\n",
    "      dx/dt = v_x\n",
    "      dz/dt = v_z\n",
    "      dv_x/dt = - gamma * v_x * sqrt(v_x^2 + v_z^2)\n",
    "      dv_z/dt = - g - gamma * v_z * sqrt(v_x^2 + v_z^2)\n",
    "    \n",
    "    Parameters\n",
    "    ----------\n",
    "    t : float\n",
    "        Current time (not used explicitly in the equations, but required by ODE solvers).\n",
    "    r : array_like\n",
    "        Current values of [x, z, v_x, v_z].\n",
    "    g : float\n",
    "        Gravitational acceleration.\n",
    "    gamma : float\n",
    "        Drag coefficient (related to air resistance).\n",
    "        \n",
    "    Returns\n",
    "    -------\n",
    "    dydt : list\n",
    "        The derivatives [dxdt, dzdt, dvxdt, dvzdt].\n",
    "    \"\"\"\n",
    "    x, z, vx, vz = r\n",
    "    speed = np.sqrt(vx**2 + vz**2)  # magnitude of the velocity vector\n",
    "\n",
    "    dxdt = vx\n",
    "    dzdt = vz\n",
    "    dvxdt = -gamma * vx * speed\n",
    "    dvzdt = -g - gamma * vz * speed\n",
    "\n",
    "    dydt = [dxdt, dzdt, dvxdt, dvzdt]\n",
    "    return dydt\n"
   ]
  },
  {
   "cell_type": "code",
   "execution_count": 20,
   "metadata": {},
   "outputs": [],
   "source": [
    "import scipy.integrate\n",
    "import scipy.optimize\n",
    "import scipy.misc"
   ]
  },
  {
   "cell_type": "markdown",
   "metadata": {},
   "source": [
    "#### Diferenciālvienādojuma risinātājs"
   ]
  },
  {
   "cell_type": "code",
   "execution_count": 21,
   "metadata": {},
   "outputs": [],
   "source": [
    "def solve(tend, gamma, h0, v0, alpha):\n",
    "    alpha_r=np.radians(alpha)\n",
    "    r0=[0,h0,v0*np.cos(alpha_r),v0*np.sin(alpha_r)]\n",
    "    tlist=np.linspace(0,tend,100) # saraksts ar sekundem, kur izvada atrisinājumu    \n",
    "    tlist = np.squeeze(tlist)\n",
    "    res=scipy.integrate.solve_ivp(drdt,  [min(tlist), max(tlist)],r0,t_eval =tlist,  args=(g, gamma))\n",
    "\n",
    "    if not res.success:\n",
    "        print(res)\n",
    "        raise Exception('Error in solve')\n",
    "    return tlist,res.y.T # Atgriež laika soļus, attālumu, augstumu, horizontālo ātrumu un vertikālo ātrumu"
   ]
  },
  {
   "cell_type": "code",
   "execution_count": 22,
   "metadata": {},
   "outputs": [],
   "source": [
    "gamma = 0.15\n",
    "tend = 10,\n",
    "h0 = 2\n",
    "v0 = 45 \n",
    "alpha = 30\n",
    "tlist, res = solve(tend, gamma, h0, v0,alpha)"
   ]
  },
  {
   "cell_type": "markdown",
   "metadata": {},
   "source": [
    "### Šī funkcija automātiski aprēķina lidojuma attālumu"
   ]
  },
  {
   "cell_type": "code",
   "execution_count": 23,
   "metadata": {},
   "outputs": [],
   "source": [
    "def xattalums(gamma, h0, v0, alpha):\n",
    "    tguess=4.0 # Nejaušs minējums optimizācijas sākuma punktam\n",
    "    max_t = 120 # maksimāli iespējamais lidojuma laiks (bisekcijas solverim)\n",
    "    res=scipy.optimize.root_scalar(lambda t:solve(t, gamma, h0, v0, alpha)[1][-1,1], method='brentq', bracket=[1e-6,max_t])\n",
    "    tlidojuma=res.root\n",
    "    tlist,res=solve(tlidojuma, gamma, h0, v0, alpha) #Lidojuma attālums\n",
    "    return res[-1,0]\n",
    "# vektorizēta xattalums funkcija    \n",
    "vxattalums = np.vectorize(xattalums)"
   ]
  },
  {
   "cell_type": "markdown",
   "metadata": {},
   "source": [
    "#### Funkcionālsakarības apvēršana - aprēķinam izsviešanas ātrumu no lidojuma attāluma\n",
    "Kā mainīgie: \\\n",
    "gamma - Berzes koeficients\\\n",
    "ho - Sākotnējais augstum\\salpha - izmešanas leņķis\\\n",
    "xatt - Lidojuma attālumsms"
   ]
  },
  {
   "cell_type": "code",
   "execution_count": 24,
   "metadata": {},
   "outputs": [],
   "source": [
    "def izmesanasatrums(gamma, h0, alpha, xatt):\n",
    "    vguess=30.0 #Nejaušs minējums optimizācijas sākuma punktam\n",
    "    vmin = 0.01 # minimālais ātrums bisekcijai\n",
    "    vmax = 500 # maksimālais ātrums bisekcijai\n",
    "    #return scipy.optimize.root(lambda v:vxattalums(gamma, h0, v, alpha)-xatt,vguess).x[0] #Lidojuma ātrums\n",
    "    res = scipy.optimize.root_scalar(lambda v:xattalums(gamma, h0, v, alpha)-xatt,method='brentq', bracket=[vmin,vmax])   \n",
    "    return res.root #Lidojuma ātrums\n",
    "izmesanasatrums_vec=np.vectorize(izmesanasatrums) # Izmešanas ātruma aprēķina definīcija"
   ]
  },
  {
   "cell_type": "markdown",
   "metadata": {},
   "source": [
    "#### Izsviešanas leņķa optimizācijas funkcijas (1) pie fiksēta v0 - *optimalais_lenkis_v* (2) pie fiksēta attāluma - *optimalais_lenkis_x*"
   ]
  },
  {
   "cell_type": "code",
   "execution_count": 25,
   "metadata": {},
   "outputs": [],
   "source": [
    "def optimalais_lenkis_v(gamma, h0, v0):\n",
    "    alpha_guess=45.0 #Nejaušs minējums optimizācijas sākuma punktam\n",
    "    res=scipy.optimize.minimize(lambda alpha:-vxattalums(gamma,h0, v0, alpha), alpha_guess) # Optimālais leņķis pie dota ātruma\n",
    "    return res.x[0]\n",
    "def optimalais_lenkis_x(gamma, h0, xatt):\n",
    "    alpha_guess=45.0 #Nejaušs minējums optimizācijas sākuma punktam\n",
    "    alpha_min=1\n",
    "    alpha_max=89\n",
    "    res=scipy.optimize.minimize_scalar(lambda alpha:izmesanasatrums(gamma,h0, alpha, xatt), method='bounded', bounds=[alpha_min,alpha_max]) # Optimālais leņķis pie dota izmešanas leņķa\n",
    "    return res.x"
   ]
  },
  {
   "cell_type": "markdown",
   "metadata": {},
   "source": [
    "### Situācija bez pretestības  h0=2.0 m, attālums 90 m, optimālais leņkis"
   ]
  },
  {
   "cell_type": "code",
   "execution_count": 26,
   "metadata": {},
   "outputs": [
    {
     "name": "stdout",
     "output_type": "stream",
     "text": [
      "Optimālais leņkis=44.36348496585332 v0=29.385336021442097 m/s, deltaX=6.094148331726188 m\n"
     ]
    }
   ],
   "source": [
    "h0=2.0 #Izmešanas augstums \n",
    "xatt=90.0 #Nolidotais attālums\n",
    "alphaopt_0=optimalais_lenkis_x(0.0, h0, xatt) #Optimālā leņķa aprēķins\n",
    "dv=1.0 # Ātruma izmaiņa attāluma izmaiņas novērtēšanai\n",
    "v0=izmesanasatrums(0.0,h0,alphaopt_0, xatt) #Izmešanas ātruma aprēķins\n",
    "xprim=xattalums(0.0, h0, v0+dv, alphaopt_0)\n",
    "print(\"Optimālais leņkis={alpha} v0={v0} m/s, deltaX={dx} m\".format(alpha=alphaopt_0,v0=v0,dx=xprim-xatt))\n"
   ]
  },
  {
   "cell_type": "markdown",
   "metadata": {},
   "source": [
    "### Situācija ar pretestību (v_terminal=50 m/s), h0=2.0 m, attālums 90 m, optimālais leņkis"
   ]
  },
  {
   "cell_type": "code",
   "execution_count": 27,
   "metadata": {},
   "outputs": [
    {
     "name": "stdout",
     "output_type": "stream",
     "text": [
      "Optimālais leņkis=42.10732804744377 v0=34.04231788471205 m/s, deltaX=3.9571432463779956 m\n"
     ]
    }
   ],
   "source": [
    "h0=2.0 #Izmešanas augstums \n",
    "v_terminal=50 # Terminal velocity\n",
    "gamma=g/(v_terminal**2)\n",
    "xatt=90.0 #Nolidotais attālums\n",
    "alphaopt_pret=optimalais_lenkis_x(gamma, h0, xatt)\n",
    "dv=1.0 # atruma izmaina\n",
    "v0=izmesanasatrums(gamma,h0,alphaopt_pret, xatt)\n",
    "xprim=xattalums(gamma, h0, v0+dv, alphaopt_pret)\n",
    "print(\"Optimālais leņkis={alpha} v0={v0} m/s, deltaX={dx} m\".format(alpha=alphaopt_pret,v0=v0,dx=xprim-xatt))"
   ]
  },
  {
   "cell_type": "markdown",
   "metadata": {
    "collapsed": true,
    "jupyter": {
     "outputs_hidden": true
    }
   },
   "source": [
    "# Uzdevumi"
   ]
  },
  {
   "cell_type": "markdown",
   "metadata": {},
   "source": [
    "## Pamatuzdevumi\n",
    "Iepazīties ar funkcijām:\n",
    "`xattalums`, `izmesanasatrums`, `optimalais_lenkis_v`, `optimalais_lenkis_x`, izskaidrot, ko katra funkcija dara un sniegt piemērus. \n",
    "\n",
    "Izskaidrojiet `lambda funkciju` lietojumu šajā uzdevumā."
   ]
  },
  {
   "cell_type": "markdown",
   "metadata": {},
   "source": [
    "## Papilduzdevumi:\n",
    "1. Kāds būtu optimālais leņķis, lai jūs trāpītu mērķī, kas atrodas uz zemes 30m attālumā ar pēc iespējas mazāku izmešanas ātrumu? Un kāds būtu šis ātrums?\n",
    "2. Cik lielam būtu jābūt mērķim, lai jūs droši trāpītu ar nelielu (deltav=2m/s) rokas trīcēšanu?\n",
    "3. Cik tālā mērķī jūs varētu trāpīt ar pie optimālā leņķa? Izmantojiet savu augumu un novērtējiet savu sviešanas ātrumu!\n",
    "   \n"
   ]
  },
  {
   "cell_type": "code",
   "execution_count": 28,
   "metadata": {},
   "outputs": [
    {
     "name": "stdout",
     "output_type": "stream",
     "text": [
      "Papilduzdevums 1 (bez pretestības):\n",
      "  - Optimālais leņķis, lai trāpītu 30m ar minimālu ātrumu = 43.09 grādi\n",
      "  - Minimālais izmešanas ātrums = 16.59 m/s\n"
     ]
    }
   ],
   "source": [
    "# 1\n",
    "\n",
    "xatt_30 = 30.0\n",
    "h0 = 2.0\n",
    "gamma = 0.0  # no drag for simplicity\n",
    "\n",
    "# Use 'optimalais_lenkis_x' to find the angle that yields the smallest v0 for hitting 30m\n",
    "alpha_opt_30 = optimalais_lenkis_x(gamma, h0, xatt_30)\n",
    "\n",
    "# Now find the actual minimal v0 using 'izmesanasatrums'\n",
    "v0_opt_30 = izmesanasatrums(gamma, h0, alpha_opt_30, xatt_30)\n",
    "\n",
    "print(\"Papilduzdevums 1 (bez pretestības):\")\n",
    "print(f\"  - Optimālais leņķis, lai trāpītu 30m ar minimālu ātrumu = {alpha_opt_30:.2f} grādi\")\n",
    "print(f\"  - Minimālais izmešanas ātrums = {v0_opt_30:.2f} m/s\")"
   ]
  },
  {
   "cell_type": "code",
   "execution_count": 29,
   "metadata": {},
   "outputs": [
    {
     "name": "stdout",
     "output_type": "stream",
     "text": [
      "\n",
      "Papilduzdevums 2 (bez pretestības):\n",
      "  - Izmešanas ātrums var svārstīties ±2.0 m/s ap 16.59 m/s\n",
      "  - Lidojuma attālums svārstās no 23.62 m līdz 37.18 m\n",
      "  - Tātad mērķa garumam jābūt vismaz 13.56 m\n"
     ]
    }
   ],
   "source": [
    "# 2\n",
    "\n",
    "dv = 2.0  # Variation in throw speed\n",
    "v0_low = v0_opt_30 - dv\n",
    "v0_high = v0_opt_30 + dv\n",
    "\n",
    "# Compute the new distances\n",
    "x_low = xattalums(gamma, h0, v0_low, alpha_opt_30)\n",
    "x_high = xattalums(gamma, h0, v0_high, alpha_opt_30)\n",
    "\n",
    "# The required target width is the difference\n",
    "target_size = x_high - x_low\n",
    "\n",
    "print(\"\\nPapilduzdevums 2 (bez pretestības):\")\n",
    "print(f\"  - Izmešanas ātrums var svārstīties ±{dv} m/s ap {v0_opt_30:.2f} m/s\")\n",
    "print(f\"  - Lidojuma attālums svārstās no {x_low:.2f} m līdz {x_high:.2f} m\")\n",
    "print(f\"  - Tātad mērķa garumam jābūt vismaz {target_size:.2f} m\")"
   ]
  },
  {
   "cell_type": "code",
   "execution_count": 30,
   "metadata": {},
   "outputs": [
    {
     "name": "stdout",
     "output_type": "stream",
     "text": [
      "\n",
      "Papilduzdevums 3 (bez pretestības):\n",
      "  - Pieņemsim, ka varat mest ar ~20.0 m/s.\n",
      "  - Aprēķinātais optimālais leņķis = 43.76°\n",
      "  - Attālums, ko varētu sasniegt, = 42.58 m\n"
     ]
    }
   ],
   "source": [
    "# 3) Max distance with my personal throw speed estimate\n",
    "my_estimated_v0 = 20.0  # for example, guess you can throw ~20 m/s\n",
    "h0 = 1.85  # my height\n",
    "gamma = 0.0  # no drag\n",
    "\n",
    "alpha_opt_my = optimalais_lenkis_v(gamma, h0, my_estimated_v0)\n",
    "range_my = xattalums(gamma, h0, my_estimated_v0, alpha_opt_my)\n",
    "\n",
    "print(\"\\nPapilduzdevums 3 (bez pretestības):\")\n",
    "print(f\"  - Pieņemsim, ka varat mest ar ~{my_estimated_v0:.1f} m/s.\")\n",
    "print(f\"  - Aprēķinātais optimālais leņķis = {alpha_opt_my:.2f}°\")\n",
    "print(f\"  - Attālums, ko varētu sasniegt, = {range_my:.2f} m\")"
   ]
  },
  {
   "cell_type": "code",
   "execution_count": null,
   "metadata": {},
   "outputs": [],
   "source": []
  }
 ],
 "metadata": {
  "kernelspec": {
   "display_name": ".venv",
   "language": "python",
   "name": "python3"
  },
  "language_info": {
   "codemirror_mode": {
    "name": "ipython",
    "version": 3
   },
   "file_extension": ".py",
   "mimetype": "text/x-python",
   "name": "python",
   "nbconvert_exporter": "python",
   "pygments_lexer": "ipython3",
   "version": "3.10.11"
  }
 },
 "nbformat": 4,
 "nbformat_minor": 4
}
