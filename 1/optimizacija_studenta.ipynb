{
 "cells": [
  {
   "cell_type": "markdown",
   "id": "65df1dca-07c8-4431-8cf3-de550259f050",
   "metadata": {},
   "source": [
    "# Optimizācija"
   ]
  },
  {
   "cell_type": "markdown",
   "id": "c57be77b-c27d-4912-94dc-68fbea0e356c",
   "metadata": {},
   "source": [
    "Vispirms importēsim nepieciešamās bibliotēkas. `numpy` zinātnisko prēķinu veikšanai, `matplotlib.pyplot` grafiku zīmēšanai un `scipy.optimize`, kuru apgūsim šajā nodarbībā."
   ]
  },
  {
   "cell_type": "code",
   "execution_count": 18,
   "id": "552f5f32-4b2d-4e15-b303-a2479486a2ad",
   "metadata": {},
   "outputs": [],
   "source": [
    "import scipy.optimize\n",
    "import numpy as np\n",
    "import matplotlib.pyplot as plt\n",
    "import matplotlib as mpl\n",
    "\n",
    "mpl.rcParams['text.usetex'] = True"
   ]
  },
  {
   "cell_type": "markdown",
   "id": "60bd69ab-4310-4be9-9eaf-4a5abd007833",
   "metadata": {},
   "source": [
    "## Sakņu meklēšana"
   ]
  },
  {
   "cell_type": "markdown",
   "id": "87474638-1d1a-401b-90c1-1fa045270e4d",
   "metadata": {},
   "source": [
    "Atcerēsimies, ka vienādojuma saknes ir tādas mainīgo vērtības, pie kurām vienādojums izpildās. Piemēram, vienādojuma $2x-3=0$ sakne ir $x=1.5$. Vienādojumam var gan nebūt sakņu, gan būt viena vai vairākas saknes. Piemēram, vienādojumam $\\sin{x}=2$ nav reālu sakņu, jo $\\sin{x}$ pieņem vērtības tikai intervāla $[-1, 1]$. Kvadrātvienādojumam $x^2=1$ ir divas saknes: $-1$ un $1$.\n",
    "\n",
    "Vienkāršākajiem vienādojumiem saknes ir iespējams atrast analītiski. Taču, piemēram, vienādojumam $2^x-3x=0$ saknes nav iespējams atrast analītiski. `scipy` ir pieejama funkcija `scipy.optimize.root`, kas ļauj meklēt vienādojuma saknes skaitliski. Skaitliskās sakņu meklēšanas gaita notiek iteratīvi, kad sākumā uzdodam kādu saknes minējumu. Katrā iterācijā mēs iegūstam arvien precīzāku saknes minējumu. Process tiek atkārtots, kamēr minējuma precizitāte mūs apmierina. Meklējot vienādojumu saknes skaitliski, jāņem vērā vairākas nianses, kuras mēs apskatīsim šajā nodarbībā."
   ]
  },
  {
   "cell_type": "markdown",
   "id": "d1500f09-462f-4897-b05a-467083f89c82",
   "metadata": {
    "tags": []
   },
   "source": [
    "### Viena argumenta funkcija"
   ]
  },
  {
   "cell_type": "markdown",
   "id": "a7fc6cda-d73c-4ff0-9628-518847690ad1",
   "metadata": {},
   "source": [
    "Funkcija `scipy.optimize.root` pieprasa divus galvenos argumentus: funkciju, kurai mēs meklēsim saknes un saknes sākuma minējumu. Apskatīsim vienkāršu piemēru, kā strādā šī funkcija. Meklēsim saknes vienādojumam $2x=3$. Ņem vērā, ka sakņu meklēšanas funkcija prasa, ka vienādojums ir uzdots kā izteiksmes vērtība, kuru pielīdzina nullei. "
   ]
  },
  {
   "cell_type": "code",
   "execution_count": 3,
   "id": "69b7b8e8-c8d6-41e9-9704-a9d796adb7a0",
   "metadata": {},
   "outputs": [
    {
     "data": {
      "text/plain": [
       " message: The solution converged.\n",
       " success: True\n",
       "  status: 1\n",
       "     fun: [ 0.000e+00]\n",
       "       x: [ 1.500e+00]\n",
       "  method: hybr\n",
       "    nfev: 6\n",
       "    fjac: [[-1.000e+00]]\n",
       "       r: [-2.000e+00]\n",
       "     qtf: [ 3.708e-11]"
      ]
     },
     "execution_count": 3,
     "metadata": {},
     "output_type": "execute_result"
    }
   ],
   "source": [
    "# Funkcija, kurai meklējam sakni\n",
    "def taisne(x):\n",
    "    return 2*x-3\n",
    "\n",
    "# Meklējam funkcijas sakni, ar sākuma minējumu 10\n",
    "scipy.optimize.root(taisne, x0=10)"
   ]
  },
  {
   "cell_type": "markdown",
   "id": "1c37e272-bf7f-4996-aa36-91214bee2781",
   "metadata": {},
   "source": [
    "Pie funkcijas izvada redzam rindiņu `message:`, kas saka, ka sakne ir veiksmīgi atrasta. Atrodam arī rindiņu `x:`, kura norāda vienādojuma sakni. Var redzēt, ka funkcija veiksmīgi atrada vienādojuma sakni $1.5$, par ko varam arī vienkārši pārliecināties.\n",
    "\n",
    "Atrastajai saknes vērtībai var piekļūt:"
   ]
  },
  {
   "cell_type": "code",
   "execution_count": 4,
   "id": "a6e6b1cf-b90f-41ce-8f91-bc5c544f2c3b",
   "metadata": {},
   "outputs": [
    {
     "data": {
      "text/plain": [
       "1.5"
      ]
     },
     "execution_count": 4,
     "metadata": {},
     "output_type": "execute_result"
    }
   ],
   "source": [
    "scipy.optimize.root(taisne, x0=10).x[0]"
   ]
  },
  {
   "cell_type": "markdown",
   "id": "586c6a98-a726-4edd-b78a-caa8283a5fe0",
   "metadata": {},
   "source": [
    "<div class=\"alert alert-block alert-info\">\n",
    "<b>Tip:</b> Jāliek protokolā. Atzīmes \"4\" uzdevums.\n",
    "</div>"
   ]
  },
  {
   "cell_type": "markdown",
   "id": "0a9b059f-a771-4824-a354-a71e86d8e96a",
   "metadata": {},
   "source": [
    "**Uzdevums:** Uzrakstīt kodu, kas atrod vienādojuma $2^x+x=0$ sakni."
   ]
  },
  {
   "cell_type": "code",
   "execution_count": 12,
   "id": "c72f49e3-cfaf-4aff-9946-f202e12a825d",
   "metadata": {},
   "outputs": [
    {
     "data": {
      "text/plain": [
       "0.0"
      ]
     },
     "execution_count": 12,
     "metadata": {},
     "output_type": "execute_result"
    }
   ],
   "source": [
    "# def func(x):\n",
    "#     return 2**x + x\n",
    "\n",
    "# scipy.optimize.root(func, x0=1).x[0]\n",
    "\n",
    "def func1(x):\n",
    "    return x**2 + x\n",
    "\n",
    "scipy.optimize.root(func1, x0=1).x[0]"
   ]
  },
  {
   "cell_type": "markdown",
   "id": "3bf1662a-40ef-4100-8365-d3d211d26339",
   "metadata": {},
   "source": [
    "**Ko darīt, ja vienādojumam ir vairākas saknes?**\n",
    "\n",
    "Ja vienādojumam ir vairākas saknes, tad `scipy.optimize.root` atrastā sakne ir atkarīga no sākotnējā minējuma.\n",
    "\n",
    "<div class=\"alert alert-block alert-info\">\n",
    "<b>Tip:</b> Jāliek protokolā. Atzīmes \"6\" uzdevums.\n",
    "</div>\n",
    "\n",
    "**Uzdevums:** Apskatīsim vienādojumu $2^x-2x=0$. Tam ir divas saknes $x=1$ un $x=2$. Pamēģināt veikt sakņu meklēšanu, ņemot dažādus sākuma minējumus (piemēram, no masīva `np.linspace(0,3,100)`). Attēlot grafiski pie kura sākuma minējuma kuru sakni atrod. "
   ]
  },
  {
   "cell_type": "code",
   "execution_count": 31,
   "id": "87dd5e0a-3b26-4e50-8671-6eeabc8b9f61",
   "metadata": {},
   "outputs": [
    {
     "name": "stderr",
     "output_type": "stream",
     "text": [
      "C:\\Users\\atsve\\AppData\\Local\\Temp\\ipykernel_17928\\591472371.py:5: RuntimeWarning: overflow encountered in power\n",
      "  return 2**x - 2*x\n"
     ]
    },
    {
     "data": {
      "image/png": "[encoded data removed]",
      "text/plain": [
       "<Figure size 640x480 with 1 Axes>"
      ]
     },
     "metadata": {},
     "output_type": "display_data"
    }
   ],
   "source": [
    "xes = np.linspace(-2, 11, 100)\n",
    "xes_bigger = np.linspace(-50, 50, 1000)\n",
    "\n",
    "def func1(x):\n",
    "    return 2**x - 2*x\n",
    "\n",
    "y = scipy.optimize.root(func1, x0=xes).x\n",
    "# y1 = scipy.optimize.root(func1, x0=xes_bigger).x\n",
    "\n",
    "plt.scatter(xes, y)\n",
    "plt.xlabel(r'$x$')\n",
    "plt.ylabel(r'$f(x)$')\n",
    "plt.title(r'Funkcijas $ f(x) = 2^x - 2x $ saknes')\n",
    "plt.grid(True)\n",
    "# plt.scatter(xes_bigger, y1, s=7)"
   ]
  },
  {
   "cell_type": "markdown",
   "id": "dd539626-886b-4264-ac1c-f0ae4f4c9742",
   "metadata": {},
   "source": [
    "Skaitliski meklējot vienādojuma sakni ir jāuzmanās. Ja sakņu meklēšanas gaitā kā saknes minējums tiek izmantots punkts, kurā funkcijas atvasinājums ir $0$ (lokālā ekstrēma punkts), tad saknes meklēšana rezultējas ar kļūdu. Apskatīsim piemēru, kurā meklēsim vienādojuma $x^2=1$ sakni, ja sākotnējais minējums ir $0$."
   ]
  },
  {
   "cell_type": "code",
   "execution_count": 7,
   "id": "9da596f6-118c-4756-95a6-415212cd7682",
   "metadata": {},
   "outputs": [
    {
     "data": {
      "text/plain": [
       " message: The iteration is not making good progress, as measured by the \n",
       "            improvement from the last ten iterations.\n",
       " success: False\n",
       "  status: 5\n",
       "     fun: [-1.000e+00]\n",
       "       x: [ 0.000e+00]\n",
       "  method: hybr\n",
       "    nfev: 15\n",
       "    fjac: [[-1.000e+00]]\n",
       "       r: [ 3.250e-20]\n",
       "     qtf: [ 1.000e+00]"
      ]
     },
     "execution_count": 7,
     "metadata": {},
     "output_type": "execute_result"
    }
   ],
   "source": [
    "def fun(x):\n",
    "    return x**2-1\n",
    "\n",
    "scipy.optimize.root(fun, x0=0)"
   ]
  },
  {
   "cell_type": "markdown",
   "id": "af69afad-091c-4ee3-bc25-1a758380a368",
   "metadata": {
    "tags": []
   },
   "source": [
    "**Kas notiek, ja vienādojumam nav sakņu?**\n",
    "\n",
    "**Uzdevums:** Pamēģināt atrast sakni kaut kādam vienādojumam, kuram nav reālu sakņu. Ko izdod funkcija?"
   ]
  },
  {
   "cell_type": "code",
   "execution_count": 8,
   "id": "0cf58e7f-4ea8-41fd-a119-79a138b5c57d",
   "metadata": {},
   "outputs": [
    {
     "name": "stderr",
     "output_type": "stream",
     "text": [
      "C:\\Users\\atsve\\AppData\\Local\\Temp\\ipykernel_17928\\3002133946.py:4: RuntimeWarning: invalid value encountered in sqrt\n",
      "  scipy.optimize.root(unreal, x0=np.sqrt(-1)).x[0]\n"
     ]
    },
    {
     "data": {
      "text/plain": [
       "nan"
      ]
     },
     "execution_count": 8,
     "metadata": {},
     "output_type": "execute_result"
    }
   ],
   "source": [
    "def unreal(x):\n",
    "    return x**2+4\n",
    "\n",
    "scipy.optimize.root(unreal, x0=np.sqrt(-1)).x[0]"
   ]
  },
  {
   "cell_type": "markdown",
   "id": "44b611f0-aebe-45d4-b755-6d1fa2fb2bd1",
   "metadata": {},
   "source": [
    "### Vienādojumu sistēma\n",
    "Ar funkciju `scipy.optimize.root` iespējams meklēt saknes arī vienādojumu sistēmām. Apskatīsim vienādojumu sistēmu $\\cases{x^2+y^2=1 \\\\ x-y=0}$. \n",
    "\n",
    "Tai ir divi sakņu pāri $(x,y)=(\\frac{\\sqrt{2}}{2}, \\frac{\\sqrt{2}}{2})$ un $(x,y)=(-\\frac{\\sqrt{2}}{2}, -\\frac{\\sqrt{2}}{2})$.\n",
    "\n",
    "Tādā gadījumā gan funkcijas ievads, gan izvads ir vektori. Apskatīsim piemēru augstāk minētajai vienādojumu sistēmai. Arī šajā gadījumā atrastā sakne ir atkarīga no sākuma minējuma.\n",
    "\n",
    "**Uzdevums:** Palaist doto kodu un paskatīties, pie kādiem sākuma minējumiem kurš sakņu pāris tiek atrasts. Atbilde atkal atrodama atrisinājuma sadaļā \"x\""
   ]
  },
  {
   "cell_type": "code",
   "execution_count": 9,
   "id": "ed680c04-2eb8-49b9-9f71-847d0de82483",
   "metadata": {
    "tags": []
   },
   "outputs": [
    {
     "data": {
      "text/plain": [
       "array([0.70710678, 0.70710678])"
      ]
     },
     "execution_count": 9,
     "metadata": {},
     "output_type": "execute_result"
    }
   ],
   "source": [
    "# Nodefinē divu argumentu funkciju kā funkciju no vektora\n",
    "def funkcija(xx):\n",
    "    # Argumentus x un y izvēlas kā ievada vektora elementus \n",
    "    x = xx[0]\n",
    "    y = xx[1]\n",
    "    # Atgriež vienādojumu sistēmu kā vektoru\n",
    "    return [x**2+y**2-1, x-y]\n",
    "\n",
    "# Veic sakņu meklēšanu ar sākuma minējumu $(x,y)=(0,0)$\n",
    "scipy.optimize.root(funkcija, x0=(15, 21)).x[:]"
   ]
  },
  {
   "cell_type": "markdown",
   "id": "2204a4a2-c36f-4a13-ad57-dc1bcb5b0084",
   "metadata": {},
   "source": [
    "<div class=\"alert alert-block alert-info\">\n",
    "<b>Tip:</b> Jāliek protokolā. Atzīmes \"8\" uzdevums.\n",
    "</div>\n",
    "\n",
    "\n",
    "**Uzdevums:** Atrast saknes vienādojumu sistēmai $\\cases{x-2y+3z=9 \\\\ -x+3y-z=-6 \\\\ 2x-5y+5z=17}$."
   ]
  },
  {
   "cell_type": "code",
   "execution_count": 69,
   "id": "ad60d9e9-966b-4bda-8e63-ad7ec666b12d",
   "metadata": {},
   "outputs": [
    {
     "name": "stdout",
     "output_type": "stream",
     "text": [
      "[ 1. -1.  2.]\n",
      "[[ 1. -1.  2.]\n",
      " [ 1. -1.  2.]\n",
      " [ 1. -1.  2.]\n",
      " [ 1. -1.  2.]\n",
      " [ 1. -1.  2.]\n",
      " [ 1. -1.  2.]\n",
      " [ 1. -1.  2.]\n",
      " [ 1. -1.  2.]\n",
      " [ 1. -1.  2.]\n",
      " [ 1. -1.  2.]\n",
      " [ 1. -1.  2.]\n",
      " [ 1. -1.  2.]\n",
      " [ 1. -1.  2.]\n",
      " [ 1. -1.  2.]\n",
      " [ 1. -1.  2.]\n",
      " [ 1. -1.  2.]\n",
      " [ 1. -1.  2.]\n",
      " [ 1. -1.  2.]\n",
      " [ 1. -1.  2.]\n",
      " [ 1. -1.  2.]\n",
      " [ 1. -1.  2.]\n",
      " [ 1. -1.  2.]\n",
      " [ 1. -1.  2.]\n",
      " [ 1. -1.  2.]\n",
      " [ 1. -1.  2.]\n",
      " [ 1. -1.  2.]\n",
      " [ 1. -1.  2.]\n",
      " [ 1. -1.  2.]\n",
      " [ 1. -1.  2.]\n",
      " [ 1. -1.  2.]\n",
      " [ 1. -1.  2.]\n",
      " [ 1. -1.  2.]\n",
      " [ 1. -1.  2.]\n",
      " [ 1. -1.  2.]\n",
      " [ 1. -1.  2.]\n",
      " [ 1. -1.  2.]\n",
      " [ 1. -1.  2.]\n",
      " [ 1. -1.  2.]\n",
      " [ 1. -1.  2.]\n",
      " [ 1. -1.  2.]\n",
      " [ 1. -1.  2.]\n",
      " [ 1. -1.  2.]\n",
      " [ 1. -1.  2.]\n",
      " [ 1. -1.  2.]\n",
      " [ 1. -1.  2.]\n",
      " [ 1. -1.  2.]\n",
      " [ 1. -1.  2.]\n",
      " [ 1. -1.  2.]\n",
      " [ 1. -1.  2.]\n",
      " [ 1. -1.  2.]\n",
      " [ 1. -1.  2.]\n",
      " [ 1. -1.  2.]\n",
      " [ 1. -1.  2.]\n",
      " [ 1. -1.  2.]\n",
      " [ 1. -1.  2.]\n",
      " [ 1. -1.  2.]\n",
      " [ 1. -1.  2.]\n",
      " [ 1. -1.  2.]\n",
      " [ 1. -1.  2.]\n",
      " [ 1. -1.  2.]\n",
      " [ 1. -1.  2.]\n",
      " [ 1. -1.  2.]\n",
      " [ 1. -1.  2.]\n",
      " [ 1. -1.  2.]\n",
      " [ 1. -1.  2.]\n",
      " [ 1. -1.  2.]\n",
      " [ 1. -1.  2.]\n",
      " [ 1. -1.  2.]\n",
      " [ 1. -1.  2.]\n",
      " [ 1. -1.  2.]\n",
      " [ 1. -1.  2.]\n",
      " [ 1. -1.  2.]\n",
      " [ 1. -1.  2.]\n",
      " [ 1. -1.  2.]\n",
      " [ 1. -1.  2.]\n",
      " [ 1. -1.  2.]\n",
      " [ 1. -1.  2.]\n",
      " [ 1. -1.  2.]\n",
      " [ 1. -1.  2.]\n",
      " [ 1. -1.  2.]\n",
      " [ 1. -1.  2.]\n",
      " [ 1. -1.  2.]\n",
      " [ 1. -1.  2.]\n",
      " [ 1. -1.  2.]\n",
      " [ 1. -1.  2.]\n",
      " [ 1. -1.  2.]\n",
      " [ 1. -1.  2.]\n",
      " [ 1. -1.  2.]\n",
      " [ 1. -1.  2.]\n",
      " [ 1. -1.  2.]\n",
      " [ 1. -1.  2.]\n",
      " [ 1. -1.  2.]\n",
      " [ 1. -1.  2.]\n",
      " [ 1. -1.  2.]\n",
      " [ 1. -1.  2.]\n",
      " [ 1. -1.  2.]\n",
      " [ 1. -1.  2.]\n",
      " [ 1. -1.  2.]\n",
      " [ 1. -1.  2.]\n",
      " [ 1. -1.  2.]]\n"
     ]
    }
   ],
   "source": [
    "def fuun(xx):\n",
    "    x = xx[0]\n",
    "    y = xx[1]\n",
    "    z = xx[2]\n",
    "    return [x-2*y+3*z-9, -x+3*y-z+6, 2*x-5*y+5*z-17]\n",
    "\n",
    "# Solve the system with initial guess (2, 2, 2)\n",
    "result = scipy.optimize.root(fuun, x0=(2, 2, 2)).x[:]\n",
    "print(result)\n",
    "\n",
    "# Define the ranges for x, y, and z\n",
    "x = np.linspace(-10, 10, 100)\n",
    "y = np.linspace(-10, 10, 100)\n",
    "z = np.linspace(-10, 10, 100)\n",
    "\n",
    "# Iterate over the ranges and solve the system for each set of initial guesses\n",
    "results = []\n",
    "for xi, yi, zi in zip(x, y, z):\n",
    "    res = scipy.optimize.root(fuun, x0=(xi, yi, zi)).x[:]\n",
    "    results.append(res)\n",
    "\n",
    "# Convert results to a numpy array for easier handling\n",
    "results = np.array(results)\n",
    "print(results)"
   ]
  },
  {
   "cell_type": "markdown",
   "id": "34c905df-dd51-4bc3-9f5d-1bc30b45a16b",
   "metadata": {},
   "source": [
    "## Minimuma meklēšana\n",
    "Zinātniskajā programmēšanā bieži vien ir svarīgi atrast kādas funkcijas minimumu. Piemēram, lai izvilktu līniju cauri datiem, mēs meklējam līniju, kura minimizē līnijas attālumu līdz datu punktiem kvadrātu summu. Matemātiskajā analīzē, iespējams, mācījāties, ka funkcijas minimuma punktu var atrast, pielīdzinot tās atvasinājumu nullei. Taču ne visām funkcijām tas ir vienkārši izdarāms. Šajā nodarbībā apskatīsim minimuma punktu meklēšanas funkcijas `scipy.optimize.minimize` pielietojumu un lietošanas nianses.\n",
    "\n",
    "Apskatīsim funkciju `scipy.optimize.minimize` darbībā vienkāršajam gadījumam, funkcijai $f(x)=x^2-1$. Tā kā skaitļa kvadrāts ir nenegatīvs, tad mazākā funkcijas vērtība ir tad, kad $x=0$. Tāpat kā sakņu meklēšanas gadījumā, arī minimuma meklēšanas gadījumā nepieciešams uzdot sākotnējo minimuma punkta minējumu. Var redzēt, ka iegūtais minimuma punkts nav precīzi, bet ir aptuveni $0$. Tas ir tāpēc, ka meklēšana notiek skaitliski."
   ]
  },
  {
   "cell_type": "code",
   "execution_count": 11,
   "id": "9ea289a9-786e-470b-9598-b47d7f4e320e",
   "metadata": {},
   "outputs": [
    {
     "data": {
      "text/plain": [
       "  message: Optimization terminated successfully.\n",
       "  success: True\n",
       "   status: 0\n",
       "      fun: -0.9999999999999993\n",
       "        x: [-2.630e-08]\n",
       "      nit: 3\n",
       "      jac: [-3.725e-08]\n",
       " hess_inv: [[ 5.000e-01]]\n",
       "     nfev: 8\n",
       "     njev: 4"
      ]
     },
     "execution_count": 11,
     "metadata": {},
     "output_type": "execute_result"
    }
   ],
   "source": [
    "# nodefinē funkciju, kurai meklējam minimuma punktu\n",
    "def fun(x):\n",
    "    return x**2-1\n",
    "# meklējam funkcijas minimumu ar sākuma minējumu x0=5\n",
    "scipy.optimize.minimize(fun, x0=5)"
   ]
  },
  {
   "cell_type": "markdown",
   "id": "ef022bcc-3f78-4051-8392-bacca8738cee",
   "metadata": {},
   "source": [
    "<div class=\"alert alert-block alert-info\">\n",
    "<b>Tip:</b> Jāliek protokolā. Atzīmes \"4\" uzdevums.\n",
    "</div>"
   ]
  },
  {
   "cell_type": "markdown",
   "id": "6197aa04-d56b-4932-84f9-c86e8945da68",
   "metadata": {},
   "source": [
    "**Uzdevums:** Atrast minimuma punktu un minimumu funkcijai $f(x)=2^x-2x$. Minimuma meklēšanas gadījumā piekļūt minimuma punkta vērtībai var tāpat kā sakņu meklēšanas gadījumā, pieliekot galā `.x[0]`."
   ]
  },
  {
   "cell_type": "code",
   "execution_count": 15,
   "id": "66ee05e3-85d8-41ae-a01f-8953129c3d22",
   "metadata": {},
   "outputs": [
    {
     "name": "stdout",
     "output_type": "stream",
     "text": [
      "1.528765214503879\n"
     ]
    },
    {
     "data": {
      "text/plain": [
       "-0.17214266411093826"
      ]
     },
     "execution_count": 15,
     "metadata": {},
     "output_type": "execute_result"
    }
   ],
   "source": [
    "def func2(x):\n",
    "    return 2**x - 2*x\n",
    "\n",
    "print(scipy.optimize.minimize(func2, x0=0).x[0])\n",
    "\n",
    "2**scipy.optimize.minimize(func2, x0=0).x[0] - 2*scipy.optimize.minimize(func2, x0=0).x[0]"
   ]
  },
  {
   "cell_type": "markdown",
   "id": "57197ed3-c0a9-4e90-b4ba-d1b84a4296fc",
   "metadata": {},
   "source": [
    "**Lokālie minimumi**\n",
    "\n",
    "Iepriekšējā piemērā funkcijai ir tieši viens minimuma punkts. Lietojot minimuma punkta meklēšanas funkciju, jāņem vērā, ka skaitliskās metodes meklē lokālā minimuma punktu. Tas, kurš lokālā minimuma punkts tiek atrasts, ir atkarīgs no izvēlētā sākuma minējuma. Apskatīsim piemēru, kā skaitliski notiek funkcijas $f(x)=x^4+x^3-2x^2$ ekstrēmu meklēšana.\n",
    "<div class=\"alert alert-block alert-info\">\n",
    "<b>Tip:</b> Jāliek protokolā. Atzīmes \"6\" uzdevums.\n",
    "</div>\n",
    "\n",
    "**Uzdevums:** Pamēģināt veikt minimuma punktu meklēšanu funkcijai $f(x)=x^4+x^3-2x^2$, ņemot dažādus sākuma minējumus (piemēram, no masīva `np.linspace(-3,2,100)`). \n",
    "Vispirms uzzīmēt funkcijas grafiku, un aptuveni noteikti minimumus, pēc tam veikt minimumu meklēšanu ar python līdzekļiem. Attēlot grafiski pie kura sākuma minējuma kuru minimuma punktu atrod."
   ]
  },
  {
   "cell_type": "code",
   "execution_count": 66,
   "id": "c2faaab6-c0f3-484f-8700-58e9eb088fac",
   "metadata": {},
   "outputs": [
    {
     "name": "stdout",
     "output_type": "stream",
     "text": [
      "0.693000444444183 -1.4430004789289936 0.0\n"
     ]
    },
    {
     "data": {
      "image/png": "[encoded data removed]",
      "text/plain": [
       "<Figure size 640x480 with 2 Axes>"
      ]
     },
     "metadata": {},
     "output_type": "display_data"
    }
   ],
   "source": [
    "x4 = np.linspace(-3, 2, 100)\n",
    "\n",
    "def equation(x):\n",
    "    return x**4 + x**3 - 2*x**2\n",
    "\n",
    "y = equation(x4)\n",
    "\n",
    "fig, ax = plt.subplots(1, 2)\n",
    "ax[0].plot(x4, y, color='red')\n",
    "\n",
    "# Find the minimum of the function\n",
    "min_result = scipy.optimize.minimize(equation, x0=1)\n",
    "min_result1 = scipy.optimize.minimize(equation, x0=-1)\n",
    "min_result2 = scipy.optimize.minimize(equation, x0=0)\n",
    "min_x = min_result.x[0]\n",
    "min_x1 = min_result1.x[0]\n",
    "min_x2 = min_result2.x[0]\n",
    "\n",
    "ax[0].scatter(min_x, equation(min_x), color='blue', label=r'$x_0=1$')\n",
    "ax[0].scatter(min_x1, equation(min_x1), color='green', label=r'$x_0=-1$')\n",
    "ax[0].scatter(min_x2, equation(min_x2), color='yellow', label=r'$x_0=0$')\n",
    "ax[0].set_xlabel(r'$x$')\n",
    "ax[0].set_ylabel(r'$y$')\n",
    "ax[0].grid(True)\n",
    "ax[0].legend()\n",
    "\n",
    "ax[1].plot(x4, y, color='red')\n",
    "ax[1].set_xlabel(r'$x$')\n",
    "ax[1].set_ylabel(r'$y$')\n",
    "ax[1].grid(True)\n",
    "\n",
    "print(min_x, min_x1, min_x2)"
   ]
  },
  {
   "cell_type": "markdown",
   "id": "4b6e537c-5f12-42fa-bc06-e9ff62b3dd4b",
   "metadata": {},
   "source": [
    "<div class=\"alert alert-block alert-info\">\n",
    "<b>Tip:</b> Jāliek protokolā. Atzīmes \"8\" uzdevums.\n",
    "</div>"
   ]
  },
  {
   "cell_type": "markdown",
   "id": "2fad8ed6-ec6d-4027-8a7c-52571af82101",
   "metadata": {},
   "source": [
    "**Maksimizācija**\n",
    "\n",
    "Dažreiz mūs interesē atrast nevis minimuma punktu, bet maksimuma punktu. Piemēram, ja mūsu funkcija aprēķina mūsu peļņu. Lai veiktu maksimizāciju, tam nav atsevišķas komandas, bet to var viegli realizēt, pareizinot mērķa funkciju ar $-1$. Respektīvi, $0$ ir funkcijas $f(x)=x^2$ minimuma punkts, bet funkcijas $f(x)=-x^2$ maksimuma punkts.\n",
    "\n",
    "**Uzdevums:** Atrast funkcijas $f(x)=\\ln{x}-x$ maksimuma punktu un maksimālo vērtību. Naturālo logaritmu aprēķina ar `np.log(x)`. Jāiegūst, ka maksimuma punkts ir $x=1$ un funkcijas maksimums ir $-1$."
   ]
  },
  {
   "cell_type": "code",
   "execution_count": 79,
   "id": "bb611949-f2f9-4873-9c83-44f3b5f1bae0",
   "metadata": {},
   "outputs": [
    {
     "name": "stdout",
     "output_type": "stream",
     "text": [
      "Maximum point: 1.0\n",
      "Maximum of the function: -1.0\n"
     ]
    }
   ],
   "source": [
    "# Rakstīt atrisinājumu šeit\n",
    "def func3(x):\n",
    "    return np.log(x) - x\n",
    "\n",
    "# Define a negative version of func3 to use minimization\n",
    "def neg_func3(x):\n",
    "    return -func3(x)\n",
    "\n",
    "# Use an initial guess within the domain (x > 0)\n",
    "res = scipy.optimize.minimize(neg_func3, x0=1)\n",
    "\n",
    "max_point = res.x[0]\n",
    "max_value = func3(max_point)\n",
    "\n",
    "print(\"Maximum point:\", max_point)\n",
    "print(\"Maximum of the function:\", max_value)"
   ]
  },
  {
   "cell_type": "code",
   "execution_count": null,
   "id": "cf9d60e9-f74b-49ba-ac16-d55d39133545",
   "metadata": {},
   "outputs": [],
   "source": []
  }
 ],
 "metadata": {
  "kernelspec": {
   "display_name": ".venv",
   "language": "python",
   "name": "python3"
  },
  "language_info": {
   "codemirror_mode": {
    "name": "ipython",
    "version": 3
   },
   "file_extension": ".py",
   "mimetype": "text/x-python",
   "name": "python",
   "nbconvert_exporter": "python",
   "pygments_lexer": "ipython3",
   "version": "3.10.11"
  }
 },
 "nbformat": 4,
 "nbformat_minor": 5
}
